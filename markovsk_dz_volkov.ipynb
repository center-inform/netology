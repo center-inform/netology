{
 "cells": [
  {
   "cell_type": "code",
   "execution_count": 53,
   "metadata": {},
   "outputs": [
    {
     "name": "stdout",
     "output_type": "stream",
     "text": [
      "Collecting hmmlearn\n",
      "  Downloading hmmlearn-0.2.4-cp36-cp36m-manylinux1_x86_64.whl (361 kB)\n",
      "\u001b[K     |████████████████████████████████| 361 kB 1.8 MB/s eta 0:00:01\n",
      "\u001b[?25hRequirement already satisfied: scikit-learn>=0.16 in /usr/local/lib/python3.6/site-packages (from hmmlearn) (0.21.2)\n",
      "Requirement already satisfied: scipy>=0.19 in /usr/local/lib/python3.6/site-packages (from hmmlearn) (1.4.1)\n",
      "Requirement already satisfied: numpy>=1.10 in /usr/local/lib/python3.6/site-packages (from hmmlearn) (1.18.5)\n",
      "Requirement already satisfied: joblib>=0.11 in /usr/local/lib/python3.6/site-packages (from scikit-learn>=0.16->hmmlearn) (0.13.2)\n",
      "Installing collected packages: hmmlearn\n",
      "Successfully installed hmmlearn-0.2.4\n",
      "\u001b[33mWARNING: You are using pip version 20.1.1; however, version 20.3.1 is available.\n",
      "You should consider upgrading via the '/usr/local/bin/python3.6 -m pip install --upgrade pip' command.\u001b[0m\n"
     ]
    }
   ],
   "source": [
    "#!pip install hmmlearn"
   ]
  },
  {
   "cell_type": "code",
   "execution_count": null,
   "metadata": {},
   "outputs": [],
   "source": [
    "import numpy as np\n",
    "import re\n",
    "import matplotlib.pyplot as plt\n",
    "import seaborn as sns\n",
    "import pandas as pd\n",
    "%matplotlib inline\n",
    "sns.set()\n",
    "from warnings import filterwarnings\n",
    "filterwarnings('ignore')"
   ]
  },
  {
   "cell_type": "markdown",
   "metadata": {},
   "source": [
    "###  Считаем все 4 тома \"Война и мир\" в переменную wap, оставив русские буквы и пробелы."
   ]
  },
  {
   "cell_type": "code",
   "execution_count": 27,
   "metadata": {},
   "outputs": [],
   "source": [
    "with open('tom_1.txt', 'r') as tom1, open('tom_2.txt', 'r') as tom2,open('tom_3.txt', 'r') as tom3, open('tom_4.txt', 'r') as tom4:\n",
    "    wap = tom1.read().lower() + tom2.read().lower() + tom3.read().lower() + tom4.read().lower()\n",
    "wap = re.sub(r'[^а-яё]',r' ', wap) "
   ]
  },
  {
   "cell_type": "markdown",
   "metadata": {},
   "source": [
    "#### Запишем в переменную alphabet русский словарь в виде строки. Далее пройдем итератором по строке и составим словарь {'буква': индекс}"
   ]
  },
  {
   "cell_type": "code",
   "execution_count": 29,
   "metadata": {},
   "outputs": [],
   "source": [
    "alphabet = 'абвгдеёжзийклмнопрстуфхцчшщъыьэюя'\n",
    "a_position = {l: i for i, l in enumerate(alphabet)}"
   ]
  },
  {
   "cell_type": "code",
   "execution_count": 32,
   "metadata": {},
   "outputs": [
    {
     "data": {
      "text/plain": [
       "33"
      ]
     },
     "execution_count": 32,
     "metadata": {},
     "output_type": "execute_result"
    }
   ],
   "source": [
    "len(a_position)"
   ]
  },
  {
   "cell_type": "markdown",
   "metadata": {},
   "source": [
    "#### С помощью numpy создадим матрицу, заполненную нулями, размером равным длине нашего словаря alphabet."
   ]
  },
  {
   "cell_type": "code",
   "execution_count": 35,
   "metadata": {},
   "outputs": [],
   "source": [
    "probab = np.zeros((len(alphabet), len(alphabet)))"
   ]
  },
  {
   "cell_type": "code",
   "execution_count": 36,
   "metadata": {},
   "outputs": [
    {
     "data": {
      "text/plain": [
       "array([[0., 0., 0., ..., 0., 0., 0.],\n",
       "       [0., 0., 0., ..., 0., 0., 0.],\n",
       "       [0., 0., 0., ..., 0., 0., 0.],\n",
       "       ...,\n",
       "       [0., 0., 0., ..., 0., 0., 0.],\n",
       "       [0., 0., 0., ..., 0., 0., 0.],\n",
       "       [0., 0., 0., ..., 0., 0., 0.]])"
      ]
     },
     "execution_count": 36,
     "metadata": {},
     "output_type": "execute_result"
    }
   ],
   "source": [
    "probab"
   ]
  },
  {
   "cell_type": "code",
   "execution_count": 41,
   "metadata": {},
   "outputs": [],
   "source": [
    "for cp, cn in zip(wap[:-1], wap[1:]):\n",
    "    try:\n",
    "        probab[a_position[cp], a_position[cn]] += 1\n",
    "    except:\n",
    "        continue"
   ]
  },
  {
   "cell_type": "code",
   "execution_count": 42,
   "metadata": {},
   "outputs": [],
   "source": [
    "probab = (probab / probab.sum(axis=1)[:, None])"
   ]
  },
  {
   "cell_type": "markdown",
   "metadata": {},
   "source": [
    "#### Создадим датафрейм"
   ]
  },
  {
   "cell_type": "code",
   "execution_count": 43,
   "metadata": {},
   "outputs": [],
   "source": [
    "df = pd.DataFrame(probab, index=(i for i in alphabet), columns=(c for c in alphabet))"
   ]
  },
  {
   "cell_type": "markdown",
   "metadata": {},
   "source": [
    "#### С помощью библиотеки seeborn постоим матрицу переходных вероятностей."
   ]
  },
  {
   "cell_type": "code",
   "execution_count": 47,
   "metadata": {},
   "outputs": [
    {
     "data": {
      "image/png": "[encoded data removed]",
      "text/plain": [
       "<Figure size 1152x720 with 2 Axes>"
      ]
     },
     "metadata": {
      "needs_background": "light"
     },
     "output_type": "display_data"
    }
   ],
   "source": [
    "plt.figure(figsize=(16,10))\n",
    "sns.heatmap(df)\n",
    "plt.show()"
   ]
  },
  {
   "cell_type": "markdown",
   "metadata": {},
   "source": [
    "#### Посчитаем вероятность встретить строку из 4 символов ('п' -> 'р')"
   ]
  },
  {
   "cell_type": "code",
   "execution_count": 50,
   "metadata": {},
   "outputs": [
    {
     "name": "stdout",
     "output_type": "stream",
     "text": [
      "паяр 4.581985332281102e-07\n",
      "пеяр 1.4394266693909144e-07\n",
      "пияр 3.1321341866000087e-07\n",
      "пляр 3.195385940956135e-07\n",
      "пмяр 7.963914060824204e-11\n",
      "пняр 3.08014893176238e-08\n",
      "пояр 6.300874360076641e-07\n",
      "ппяр 5.198468066889215e-09\n",
      "пряр 1.5062718814119952e-06\n",
      "псяр 3.0520966067074272e-09\n",
      "птяр 4.309863722488477e-09\n",
      "пуяр 2.2747029702662476e-08\n",
      "пцяр 1.0074087976964202e-10\n",
      "пшяр 2.1474199325589203e-12\n",
      "пыяр 1.3904155412685502e-10\n",
      "пьяр 5.530165407964169e-07\n",
      "пяяр 6.072726089434658e-08\n"
     ]
    }
   ],
   "source": [
    "start_char = a_position['п']\n",
    "end_char = a_position['р']\n",
    "pr = 1. / len(alphabet)\n",
    "for c1 in alphabet:\n",
    "    for c2 in alphabet:  \n",
    "        proba = pr * probab[start_char, a_position[c1]] * probab[a_position[c1], a_position[c2]] * probab[a_position[c2], end_char]\n",
    "    if proba > 0:\n",
    "        print(''.join(['п', c1, c2, 'р']), proba)"
   ]
  },
  {
   "cell_type": "markdown",
   "metadata": {},
   "source": [
    "#### Посчитаем теперь для строки из 8 символов начинающейся с буквы \"б\""
   ]
  },
  {
   "cell_type": "code",
   "execution_count": 51,
   "metadata": {},
   "outputs": [
    {
     "name": "stdout",
     "output_type": "stream",
     "text": [
      "бихостос\n"
     ]
    }
   ],
   "source": [
    "s = []\n",
    "start_char = 'б'\n",
    "s.append(start_char)\n",
    "length = 7\n",
    "for i in range(length):\n",
    "    index = a_position[s[i]]\n",
    "    next_char = np.random.choice(list(alphabet), p=probab[index])\n",
    "    s.append(next_char)\n",
    "\n",
    "print (''.join(s))"
   ]
  },
  {
   "cell_type": "markdown",
   "metadata": {},
   "source": [
    "### Построим ряд через HMM."
   ]
  },
  {
   "cell_type": "code",
   "execution_count": 54,
   "metadata": {},
   "outputs": [],
   "source": [
    "from hmmlearn.hmm import GaussianHMM"
   ]
  },
  {
   "cell_type": "code",
   "execution_count": 73,
   "metadata": {},
   "outputs": [],
   "source": [
    "monthly_sales = pd.read_csv(\"../data/monthly-sales-of-company-x-jan-6.csv\")"
   ]
  },
  {
   "cell_type": "code",
   "execution_count": 74,
   "metadata": {},
   "outputs": [
    {
     "data": {
      "text/html": [
       "<div>\n",
       "<style scoped>\n",
       "    .dataframe tbody tr th:only-of-type {\n",
       "        vertical-align: middle;\n",
       "    }\n",
       "\n",
       "    .dataframe tbody tr th {\n",
       "        vertical-align: top;\n",
       "    }\n",
       "\n",
       "    .dataframe thead th {\n",
       "        text-align: right;\n",
       "    }\n",
       "</style>\n",
       "<table border=\"1\" class=\"dataframe\">\n",
       "  <thead>\n",
       "    <tr style=\"text-align: right;\">\n",
       "      <th></th>\n",
       "      <th>Month</th>\n",
       "      <th>Count</th>\n",
       "    </tr>\n",
       "  </thead>\n",
       "  <tbody>\n",
       "    <tr>\n",
       "      <th>0</th>\n",
       "      <td>1965-01</td>\n",
       "      <td>154</td>\n",
       "    </tr>\n",
       "    <tr>\n",
       "      <th>1</th>\n",
       "      <td>1965-02</td>\n",
       "      <td>96</td>\n",
       "    </tr>\n",
       "    <tr>\n",
       "      <th>2</th>\n",
       "      <td>1965-03</td>\n",
       "      <td>73</td>\n",
       "    </tr>\n",
       "  </tbody>\n",
       "</table>\n",
       "</div>"
      ],
      "text/plain": [
       "     Month  Count\n",
       "0  1965-01    154\n",
       "1  1965-02     96\n",
       "2  1965-03     73"
      ]
     },
     "execution_count": 74,
     "metadata": {},
     "output_type": "execute_result"
    }
   ],
   "source": [
    "monthly_sales.head(3)"
   ]
  },
  {
   "cell_type": "code",
   "execution_count": 75,
   "metadata": {},
   "outputs": [],
   "source": [
    "monthly_sales = monthly_sales['Count']"
   ]
  },
  {
   "cell_type": "code",
   "execution_count": 76,
   "metadata": {},
   "outputs": [
    {
     "data": {
      "text/plain": [
       "array([[154],\n",
       "       [ 96],\n",
       "       [ 73],\n",
       "       [ 49],\n",
       "       [ 36],\n",
       "       [ 59],\n",
       "       [ 95],\n",
       "       [169],\n",
       "       [210],\n",
       "       [278],\n",
       "       [298],\n",
       "       [245],\n",
       "       [200],\n",
       "       [118],\n",
       "       [ 90],\n",
       "       [ 79],\n",
       "       [ 78],\n",
       "       [ 91],\n",
       "       [167],\n",
       "       [169],\n",
       "       [289],\n",
       "       [347],\n",
       "       [375],\n",
       "       [203],\n",
       "       [223],\n",
       "       [104],\n",
       "       [107],\n",
       "       [ 85],\n",
       "       [ 75],\n",
       "       [ 99],\n",
       "       [135],\n",
       "       [211],\n",
       "       [335],\n",
       "       [460],\n",
       "       [488],\n",
       "       [326],\n",
       "       [346],\n",
       "       [261],\n",
       "       [224],\n",
       "       [141],\n",
       "       [148],\n",
       "       [145],\n",
       "       [223],\n",
       "       [272],\n",
       "       [445],\n",
       "       [560],\n",
       "       [612],\n",
       "       [467],\n",
       "       [518],\n",
       "       [404],\n",
       "       [300],\n",
       "       [210],\n",
       "       [196],\n",
       "       [186],\n",
       "       [247],\n",
       "       [343],\n",
       "       [464],\n",
       "       [680],\n",
       "       [711],\n",
       "       [610],\n",
       "       [613],\n",
       "       [392],\n",
       "       [273],\n",
       "       [322],\n",
       "       [189],\n",
       "       [257],\n",
       "       [324],\n",
       "       [404],\n",
       "       [677],\n",
       "       [858],\n",
       "       [895],\n",
       "       [664],\n",
       "       [628],\n",
       "       [308],\n",
       "       [324],\n",
       "       [248],\n",
       "       [272]])"
      ]
     },
     "execution_count": 76,
     "metadata": {},
     "output_type": "execute_result"
    }
   ],
   "source": [
    "values = monthly_sales.values.reshape(-1,1)\n",
    "values"
   ]
  },
  {
   "cell_type": "code",
   "execution_count": 77,
   "metadata": {},
   "outputs": [
    {
     "name": "stdout",
     "output_type": "stream",
     "text": [
      "1 -516.1188153076023\n",
      "2 -487.45859834487584\n",
      "3 -465.47589432498637\n",
      "4 -454.5453273063033\n",
      "5 -447.66570883789535\n"
     ]
    },
    {
     "name": "stderr",
     "output_type": "stream",
     "text": [
      "Fitting a model with 79 free scalar parameters with only 77 data points will result in a degenerate solution.\n"
     ]
    },
    {
     "name": "stdout",
     "output_type": "stream",
     "text": [
      "6 -442.9206760697119\n",
      "7 -433.2011958611599\n"
     ]
    },
    {
     "name": "stderr",
     "output_type": "stream",
     "text": [
      "Fitting a model with 98 free scalar parameters with only 77 data points will result in a degenerate solution.\n",
      "Fitting a model with 119 free scalar parameters with only 77 data points will result in a degenerate solution.\n"
     ]
    },
    {
     "name": "stdout",
     "output_type": "stream",
     "text": [
      "8 -427.24430672993765\n",
      "9 -420.0421620328055\n"
     ]
    },
    {
     "name": "stderr",
     "output_type": "stream",
     "text": [
      "Fitting a model with 142 free scalar parameters with only 77 data points will result in a degenerate solution.\n",
      "Fitting a model with 167 free scalar parameters with only 77 data points will result in a degenerate solution.\n"
     ]
    },
    {
     "name": "stdout",
     "output_type": "stream",
     "text": [
      "10 -415.2820492582641\n",
      "11 -409.5817141056568\n"
     ]
    },
    {
     "name": "stderr",
     "output_type": "stream",
     "text": [
      "Fitting a model with 194 free scalar parameters with only 77 data points will result in a degenerate solution.\n"
     ]
    },
    {
     "name": "stdout",
     "output_type": "stream",
     "text": [
      "12 -403.1629483350276\n"
     ]
    },
    {
     "name": "stderr",
     "output_type": "stream",
     "text": [
      "Fitting a model with 223 free scalar parameters with only 77 data points will result in a degenerate solution.\n"
     ]
    },
    {
     "name": "stdout",
     "output_type": "stream",
     "text": [
      "13 -392.33383658385185\n",
      "14 -387.53159227963084\n"
     ]
    }
   ],
   "source": [
    "for n in range(1, 15):\n",
    "    model = GaussianHMM(n_components=n,\n",
    "                        covariance_type=\"diag\",\n",
    "                        n_iter=1000)\n",
    "    model.fit(values)\n",
    "    print (n, model.score(values))"
   ]
  },
  {
   "cell_type": "code",
   "execution_count": 78,
   "metadata": {},
   "outputs": [
    {
     "name": "stderr",
     "output_type": "stream",
     "text": [
      "Fitting a model with 119 free scalar parameters with only 77 data points will result in a degenerate solution.\n"
     ]
    },
    {
     "data": {
      "text/plain": [
       "[<matplotlib.lines.Line2D at 0x7fd997d6d828>]"
      ]
     },
     "execution_count": 78,
     "metadata": {},
     "output_type": "execute_result"
    },
    {
     "data": {
      "image/png": "[encoded data removed]",
      "text/plain": [
       "<Figure size 864x432 with 1 Axes>"
      ]
     },
     "metadata": {
      "needs_background": "light"
     },
     "output_type": "display_data"
    }
   ],
   "source": [
    "model = GaussianHMM(n_components=10,\n",
    "                        covariance_type=\"diag\",\n",
    "                        n_iter=1000)\n",
    "model.fit(values)\n",
    "labels = model.predict(values)\n",
    "means = np.zeros_like(values)\n",
    "for i in range(model.n_components):\n",
    "    means[labels == i] = model.means_[i]\n",
    "    \n",
    "plt.figure(figsize=(12, 6))\n",
    "plt.plot(values)\n",
    "plt.plot(means, linewidth=3)"
   ]
  },
  {
   "cell_type": "code",
   "execution_count": null,
   "metadata": {},
   "outputs": [],
   "source": []
  }
 ],
 "metadata": {
  "kernelspec": {
   "display_name": "Python 3",
   "language": "python",
   "name": "python3"
  },
  "language_info": {
   "codemirror_mode": {
    "name": "ipython",
    "version": 3
   },
   "file_extension": ".py",
   "mimetype": "text/x-python",
   "name": "python",
   "nbconvert_exporter": "python",
   "pygments_lexer": "ipython3",
   "version": "3.6.5"
  }
 },
 "nbformat": 4,
 "nbformat_minor": 4
}
